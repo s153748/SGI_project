{
 "cells": [
  {
   "cell_type": "markdown",
   "metadata": {
    "ExecuteTime": {
     "end_time": "2020-11-05T16:51:56.705977Z",
     "start_time": "2020-11-05T16:51:56.703517Z"
    }
   },
   "source": [
    "# Social Graphs Project"
   ]
  },
  {
   "cell_type": "markdown",
   "metadata": {},
   "source": [
    "## Pre-processing"
   ]
  },
  {
   "cell_type": "markdown",
   "metadata": {},
   "source": [
    "### Import libraries"
   ]
  },
  {
   "cell_type": "code",
   "execution_count": 1,
   "metadata": {
    "ExecuteTime": {
     "end_time": "2020-11-05T17:29:30.290715Z",
     "start_time": "2020-11-05T17:29:30.283393Z"
    }
   },
   "outputs": [],
   "source": [
    "import pandas as pd\n",
    "import numpy as np\n",
    "import re\n",
    "import urllib.request\n",
    "import json\n",
    "import os\n",
    "import string  \n",
    "import math\n",
    "import matplotlib.pyplot as plt\n",
    "import seaborn as sns\n",
    "import networkx as nx\n",
    "import community\n",
    "import nltk\n",
    "from nltk.corpus import stopwords\n",
    "from nltk.stem import WordNetLemmatizer\n",
    "from nltk.probability import FreqDist\n",
    "from wordcloud import WordCloud, ImageColorGenerator\n",
    "from fa2 import ForceAtlas2\n",
    "from PIL import Image, ImageFont"
   ]
  },
  {
   "cell_type": "markdown",
   "metadata": {},
   "source": [
    "### Extract wiki data"
   ]
  },
  {
   "cell_type": "markdown",
   "metadata": {},
   "source": [
    "### Data cleaning"
   ]
  },
  {
   "cell_type": "code",
   "execution_count": 188,
   "metadata": {},
   "outputs": [
    {
     "data": {
      "text/html": [
       "<div>\n",
       "<style scoped>\n",
       "    .dataframe tbody tr th:only-of-type {\n",
       "        vertical-align: middle;\n",
       "    }\n",
       "\n",
       "    .dataframe tbody tr th {\n",
       "        vertical-align: top;\n",
       "    }\n",
       "\n",
       "    .dataframe thead th {\n",
       "        text-align: right;\n",
       "    }\n",
       "</style>\n",
       "<table border=\"1\" class=\"dataframe\">\n",
       "  <thead>\n",
       "    <tr style=\"text-align: right;\">\n",
       "      <th></th>\n",
       "      <th>user_name</th>\n",
       "      <th>owner</th>\n",
       "      <th>repos</th>\n",
       "      <th>name</th>\n",
       "      <th>type</th>\n",
       "      <th>company</th>\n",
       "      <th>location</th>\n",
       "      <th>bio</th>\n",
       "      <th>created_at</th>\n",
       "      <th>updated_at</th>\n",
       "      <th>following</th>\n",
       "      <th>description</th>\n",
       "      <th>languages</th>\n",
       "      <th>out</th>\n",
       "    </tr>\n",
       "  </thead>\n",
       "  <tbody>\n",
       "    <tr>\n",
       "      <th>0</th>\n",
       "      <td>josephmisiti</td>\n",
       "      <td>josephmisiti</td>\n",
       "      <td>awesome-machine-learning</td>\n",
       "      <td>Joseph Misiti</td>\n",
       "      <td>User</td>\n",
       "      <td>Math &amp; Pencil</td>\n",
       "      <td>Brooklyn, NY</td>\n",
       "      <td>Mathematician &amp; Co-founder of Math &amp; Pencil</td>\n",
       "      <td>2010-04-17T21:09:13Z</td>\n",
       "      <td>2020-10-29T18:11:39Z</td>\n",
       "      <td>['mojombo', 'defunkt', 'vanpelt', 'macournoyer...</td>\n",
       "      <td>SDK and example code for building voice-enabl...</td>\n",
       "      <td>[C,C++,CSS,Go,Java,JavaScript,Jupyter,Notebook...</td>\n",
       "      <td>[JWarmenhoven,agramfort,alextp,amueller,bamos,...</td>\n",
       "    </tr>\n",
       "    <tr>\n",
       "      <th>1</th>\n",
       "      <td>wepe</td>\n",
       "      <td>wepe</td>\n",
       "      <td>MachineLearning</td>\n",
       "      <td>wepon</td>\n",
       "      <td>User</td>\n",
       "      <td>AntFin</td>\n",
       "      <td>China Hangzhou</td>\n",
       "      <td>NaN</td>\n",
       "      <td>2014-10-10T14:28:18Z</td>\n",
       "      <td>2020-11-05T15:54:10Z</td>\n",
       "      <td>['pluskid', 'benanne', 'colah', 'kennethreitz4...</td>\n",
       "      <td>1st Place Season one &amp; 6th Place Season two1st...</td>\n",
       "      <td>[C++,HTML,Java,Python,Shell]</td>\n",
       "      <td>[aymericdamien,enjoyhot,guolinke,junlulocky]</td>\n",
       "    </tr>\n",
       "    <tr>\n",
       "      <th>2</th>\n",
       "      <td>ZuzooVn</td>\n",
       "      <td>ZuzooVn</td>\n",
       "      <td>machine-learning-for-software-engineers</td>\n",
       "      <td>Nam Vu</td>\n",
       "      <td>User</td>\n",
       "      <td>NaN</td>\n",
       "      <td>Vietnam</td>\n",
       "      <td>A Vietnamese Software Engineer who is really p...</td>\n",
       "      <td>2012-02-11T16:55:02Z</td>\n",
       "      <td>2020-10-12T02:40:45Z</td>\n",
       "      <td>['ole', 'escoz', 'pokeb', 'tcdoan', 'dyang', '...</td>\n",
       "      <td>Android executables browserEasy to use CFNetwo...</td>\n",
       "      <td>[C,DIGITAL,Command,Language,HTML,Java,JavaScri...</td>\n",
       "      <td>[jwasham]</td>\n",
       "    </tr>\n",
       "    <tr>\n",
       "      <th>3</th>\n",
       "      <td>rasbt</td>\n",
       "      <td>rasbt</td>\n",
       "      <td>python-machine-learning-book</td>\n",
       "      <td>Sebastian Raschka</td>\n",
       "      <td>User</td>\n",
       "      <td>UW-Madison</td>\n",
       "      <td>Madison, WI</td>\n",
       "      <td>Machine Learning researcher &amp; open source cont...</td>\n",
       "      <td>2013-10-05T16:06:10Z</td>\n",
       "      <td>2020-11-09T23:00:46Z</td>\n",
       "      <td>['ctb', 'ogrisel', 'tacaswell', 'GaelVaroquaux...</td>\n",
       "      <td>My Solutions for the Advent of Code 2016A repo...</td>\n",
       "      <td>[C,C++,CSS,HTML,Jupyter,Notebook,Lua,OpenEdge,...</td>\n",
       "      <td>[amueller,jakevdp,mblondel,ogrisel,rhiever]</td>\n",
       "    </tr>\n",
       "    <tr>\n",
       "      <th>4</th>\n",
       "      <td>Jack-Cherish</td>\n",
       "      <td>Jack-Cherish</td>\n",
       "      <td>Machine-Learning</td>\n",
       "      <td>Jack Cui</td>\n",
       "      <td>User</td>\n",
       "      <td>Northeastern University</td>\n",
       "      <td>China</td>\n",
       "      <td>:octocat:公众号：JackCui-AI</td>\n",
       "      <td>2016-01-25T03:38:06Z</td>\n",
       "      <td>2020-07-31T13:54:15Z</td>\n",
       "      <td>['kennethreitz42', 'karpathy', 'marvis', 'shic...</td>\n",
       "      <td>:art:冒泡排序；直接插入排序；希尔排序；快速排序；堆排序；归并排序；基数排序C/C++:...</td>\n",
       "      <td>[C++,HTML,Python]</td>\n",
       "      <td>[]</td>\n",
       "    </tr>\n",
       "  </tbody>\n",
       "</table>\n",
       "</div>"
      ],
      "text/plain": [
       "      user_name         owner                                    repos  \\\n",
       "0  josephmisiti  josephmisiti                 awesome-machine-learning   \n",
       "1          wepe          wepe                          MachineLearning   \n",
       "2       ZuzooVn       ZuzooVn  machine-learning-for-software-engineers   \n",
       "3         rasbt         rasbt             python-machine-learning-book   \n",
       "4  Jack-Cherish  Jack-Cherish                         Machine-Learning   \n",
       "\n",
       "                name  type                  company        location  \\\n",
       "0      Joseph Misiti  User           Math & Pencil     Brooklyn, NY   \n",
       "1              wepon  User                   AntFin  China Hangzhou   \n",
       "2             Nam Vu  User                      NaN         Vietnam   \n",
       "3  Sebastian Raschka  User               UW-Madison     Madison, WI   \n",
       "4           Jack Cui  User  Northeastern University           China   \n",
       "\n",
       "                                                 bio            created_at  \\\n",
       "0        Mathematician & Co-founder of Math & Pencil  2010-04-17T21:09:13Z   \n",
       "1                                                NaN  2014-10-10T14:28:18Z   \n",
       "2  A Vietnamese Software Engineer who is really p...  2012-02-11T16:55:02Z   \n",
       "3  Machine Learning researcher & open source cont...  2013-10-05T16:06:10Z   \n",
       "4                            :octocat:公众号：JackCui-AI  2016-01-25T03:38:06Z   \n",
       "\n",
       "             updated_at                                          following  \\\n",
       "0  2020-10-29T18:11:39Z  ['mojombo', 'defunkt', 'vanpelt', 'macournoyer...   \n",
       "1  2020-11-05T15:54:10Z  ['pluskid', 'benanne', 'colah', 'kennethreitz4...   \n",
       "2  2020-10-12T02:40:45Z  ['ole', 'escoz', 'pokeb', 'tcdoan', 'dyang', '...   \n",
       "3  2020-11-09T23:00:46Z  ['ctb', 'ogrisel', 'tacaswell', 'GaelVaroquaux...   \n",
       "4  2020-07-31T13:54:15Z  ['kennethreitz42', 'karpathy', 'marvis', 'shic...   \n",
       "\n",
       "                                         description  \\\n",
       "0   SDK and example code for building voice-enabl...   \n",
       "1  1st Place Season one & 6th Place Season two1st...   \n",
       "2  Android executables browserEasy to use CFNetwo...   \n",
       "3  My Solutions for the Advent of Code 2016A repo...   \n",
       "4  :art:冒泡排序；直接插入排序；希尔排序；快速排序；堆排序；归并排序；基数排序C/C++:...   \n",
       "\n",
       "                                           languages  \\\n",
       "0  [C,C++,CSS,Go,Java,JavaScript,Jupyter,Notebook...   \n",
       "1                       [C++,HTML,Java,Python,Shell]   \n",
       "2  [C,DIGITAL,Command,Language,HTML,Java,JavaScri...   \n",
       "3  [C,C++,CSS,HTML,Jupyter,Notebook,Lua,OpenEdge,...   \n",
       "4                                  [C++,HTML,Python]   \n",
       "\n",
       "                                                 out  \n",
       "0  [JWarmenhoven,agramfort,alextp,amueller,bamos,...  \n",
       "1       [aymericdamien,enjoyhot,guolinke,junlulocky]  \n",
       "2                                          [jwasham]  \n",
       "3        [amueller,jakevdp,mblondel,ogrisel,rhiever]  \n",
       "4                                                 []  "
      ]
     },
     "execution_count": 188,
     "metadata": {},
     "output_type": "execute_result"
    }
   ],
   "source": [
    "df = pd.read_csv('../git_data_third.csv',index_col=0)\n",
    "df['languages']=df['languages'].str.replace(' ',',').str.replace('\\n','').str.replace(\"'\",\"\")\n",
    "df['out']=df['out'].str.replace(' ',',').str.replace('\\n','').str.replace(\"'\",\"\")\n",
    "df.head()"
   ]
  },
  {
   "cell_type": "code",
   "execution_count": 189,
   "metadata": {},
   "outputs": [],
   "source": [
    "def stringToList(colname):\n",
    "    \n",
    "    df[colname]=[df[colname][i][1:len(df[colname][i])-1].split(',') for i in range(len(df))]\n",
    "\n",
    "stringToList('out')\n",
    "stringToList('following')\n",
    "stringToList('languages')\n"
   ]
  },
  {
   "cell_type": "markdown",
   "metadata": {},
   "source": [
    "## Generate network"
   ]
  },
  {
   "cell_type": "code",
   "execution_count": 190,
   "metadata": {},
   "outputs": [],
   "source": [
    "# store the network of users with DiGraph\n",
    "G = nx.DiGraph()\n",
    "G.add_nodes_from(df['user_name'].values)\n",
    "\n",
    "for row in df.iterrows():\n",
    "    \n",
    "    z = [(row[1]['user_name'], other_node) for other_node in row[1]['out']]\n",
    "    G.add_edges_from(z)\n",
    "\n",
    "largest_cc = max(nx.weakly_connected_components(G), key=len)\n",
    "GCC = G.subgraph(largest_cc)\n"
   ]
  },
  {
   "cell_type": "markdown",
   "metadata": {},
   "source": [
    "## Basic statistics"
   ]
  },
  {
   "cell_type": "code",
   "execution_count": 191,
   "metadata": {},
   "outputs": [
    {
     "name": "stdout",
     "output_type": "stream",
     "text": [
      "Number of nodes in GCC: 738\n",
      "Number of edges in GCC: 2301\n"
     ]
    }
   ],
   "source": [
    "print(f\"Number of nodes in GCC: {GCC.number_of_nodes()}\")\n",
    "print(f\"Number of edges in GCC: {GCC.number_of_edges()}\")"
   ]
  },
  {
   "cell_type": "markdown",
   "metadata": {},
   "source": [
    "## Visualization"
   ]
  },
  {
   "cell_type": "code",
   "execution_count": null,
   "metadata": {},
   "outputs": [],
   "source": []
  },
  {
   "cell_type": "code",
   "execution_count": null,
   "metadata": {},
   "outputs": [],
   "source": []
  },
  {
   "cell_type": "code",
   "execution_count": null,
   "metadata": {},
   "outputs": [],
   "source": []
  }
 ],
 "metadata": {
  "kernelspec": {
   "display_name": "Python 3",
   "language": "python",
   "name": "python3"
  },
  "language_info": {
   "codemirror_mode": {
    "name": "ipython",
    "version": 3
   },
   "file_extension": ".py",
   "mimetype": "text/x-python",
   "name": "python",
   "nbconvert_exporter": "python",
   "pygments_lexer": "ipython3",
   "version": "3.7.6"
  },
  "toc": {
   "base_numbering": 1,
   "nav_menu": {},
   "number_sections": true,
   "sideBar": true,
   "skip_h1_title": false,
   "title_cell": "Table of Contents",
   "title_sidebar": "Contents",
   "toc_cell": false,
   "toc_position": {},
   "toc_section_display": true,
   "toc_window_display": true
  }
 },
 "nbformat": 4,
 "nbformat_minor": 4
}
