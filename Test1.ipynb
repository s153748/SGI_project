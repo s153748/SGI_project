{
 "cells": [
  {
   "cell_type": "code",
   "execution_count": 169,
   "metadata": {},
   "outputs": [],
   "source": []
  },
  {
   "cell_type": "code",
   "execution_count": null,
   "metadata": {},
   "outputs": [],
   "source": [
    "import pandas as pd\n",
    "import numpy as np\n",
    "import re\n",
    "import urllib.request\n",
    "import json\n",
    "import os\n",
    "import string  \n",
    "import math\n",
    "import matplotlib.pyplot as plt\n",
    "import seaborn as sns\n",
    "import networkx as nx\n",
    "import community\n",
    "import nltk\n",
    "from nltk.corpus import stopwords\n",
    "from nltk.stem import WordNetLemmatizer\n",
    "from nltk.probability import FreqDist\n",
    "from wordcloud import WordCloud, ImageColorGenerator\n",
    "from fa2 import ForceAtlas2\n",
    "from PIL import Image, ImageFont\n",
    "import urllib\n",
    "from urllib.request import urlopen\n",
    "import pandas as pd\n",
    "import numpy as np\n",
    "import matplotlib.pyplot as plt\n",
    "\n",
    "import requests\n",
    "import json\n",
    "import re\n",
    "\n",
    "from urllib.request import urlopen\n",
    "from bs4 import BeautifulSoup"
   ]
  },
  {
   "cell_type": "code",
   "execution_count": 170,
   "metadata": {},
   "outputs": [],
   "source": [
    "pages = list(range(1,10))\n",
    "\n",
    "users=[]\n",
    "for page in pages:\n",
    "    url = f'https://github.com/search?o=desc&p={page}&q=machine+learning&s=stars&type=Repositories'\n",
    "    response = requests.get(url)\n",
    "    soup = BeautifulSoup(response.text, 'html.parser')\n",
    "    s = str(soup)\n",
    "    user = re.findall('{?\"Repository\",\"url\":\"https://github.com/(.*?)/',s)\n",
    "    users.extend(user)\n",
    "\n",
    "\n",
    "    "
   ]
  },
  {
   "cell_type": "code",
   "execution_count": 182,
   "metadata": {},
   "outputs": [],
   "source": [
    "file1 = open(\"usernames.txt\",\"w\") \n",
    "L = ','.join(users) \n",
    "# \\n is placed to indicate EOL (End of Line) \n",
    "file1.write(L) \n",
    "file1.close()\n"
   ]
  },
  {
   "cell_type": "code",
   "execution_count": 179,
   "metadata": {},
   "outputs": [
    {
     "ename": "KeyError",
     "evalue": "'received_events_url'",
     "output_type": "error",
     "traceback": [
      "\u001b[1;31m---------------------------------------------------------------------------\u001b[0m",
      "\u001b[1;31mKeyError\u001b[0m                                  Traceback (most recent call last)",
      "\u001b[1;32m<ipython-input-179-78cdbf876ffc>\u001b[0m in \u001b[0;36m<module>\u001b[1;34m\u001b[0m\n\u001b[0;32m      6\u001b[0m     \u001b[0muser_data\u001b[0m \u001b[1;33m=\u001b[0m \u001b[0mrequests\u001b[0m\u001b[1;33m.\u001b[0m\u001b[0mget\u001b[0m\u001b[1;33m(\u001b[0m\u001b[0murl\u001b[0m\u001b[1;33m)\u001b[0m\u001b[1;33m.\u001b[0m\u001b[0mjson\u001b[0m\u001b[1;33m(\u001b[0m\u001b[1;33m)\u001b[0m\u001b[1;33m\u001b[0m\u001b[1;33m\u001b[0m\u001b[0m\n\u001b[0;32m      7\u001b[0m \u001b[1;33m\u001b[0m\u001b[0m\n\u001b[1;32m----> 8\u001b[1;33m     \u001b[0mfollow_url\u001b[0m \u001b[1;33m=\u001b[0m \u001b[0muser_data\u001b[0m\u001b[1;33m[\u001b[0m\u001b[1;34m'received_events_url'\u001b[0m\u001b[1;33m]\u001b[0m\u001b[1;33m\u001b[0m\u001b[1;33m\u001b[0m\u001b[0m\n\u001b[0m\u001b[0;32m      9\u001b[0m     \u001b[0mfollow_data\u001b[0m \u001b[1;33m=\u001b[0m \u001b[0mrequests\u001b[0m\u001b[1;33m.\u001b[0m\u001b[0mget\u001b[0m\u001b[1;33m(\u001b[0m\u001b[0mfollow_url\u001b[0m\u001b[1;33m)\u001b[0m\u001b[1;33m.\u001b[0m\u001b[0mjson\u001b[0m\u001b[1;33m(\u001b[0m\u001b[1;33m)\u001b[0m\u001b[1;33m\u001b[0m\u001b[1;33m\u001b[0m\u001b[0m\n\u001b[0;32m     10\u001b[0m \u001b[1;33m\u001b[0m\u001b[0m\n",
      "\u001b[1;31mKeyError\u001b[0m: 'received_events_url'"
     ]
    }
   ],
   "source": [
    "conts = []\n",
    "\n",
    "for username in users[:50]:\n",
    "\n",
    "    url = f\"https://api.github.com/users/{username}\"\n",
    "    user_data = requests.get(url).json()\n",
    "\n",
    "    follow_url = user_data['received_events_url']\n",
    "    follow_data = requests.get(follow_url).json()\n",
    "\n",
    "    followers = []\n",
    "    for i in range(len(follow_data)):\n",
    "        follow = follow_data[i]['actor']['login']\n",
    "        followers.append(follow)\n",
    "\n",
    "    conts.extend(np.unique(followers))"
   ]
  },
  {
   "cell_type": "code",
   "execution_count": 183,
   "metadata": {},
   "outputs": [
    {
     "ename": "RateLimitExceededException",
     "evalue": "403 {\"message\": \"API rate limit exceeded for 83.89.248.244. (But here's the good news: Authenticated requests get a higher rate limit. Check out the documentation for more details.)\", \"documentation_url\": \"https://developer.github.com/v3/#rate-limiting\"}",
     "output_type": "error",
     "traceback": [
      "\u001b[1;31m---------------------------------------------------------------------------\u001b[0m",
      "\u001b[1;31mRateLimitExceededException\u001b[0m                Traceback (most recent call last)",
      "\u001b[1;32m<ipython-input-183-4519af4f177a>\u001b[0m in \u001b[0;36m<module>\u001b[1;34m\u001b[0m\n\u001b[0;32m      1\u001b[0m \u001b[0mg\u001b[0m \u001b[1;33m=\u001b[0m \u001b[0mGithub\u001b[0m\u001b[1;33m(\u001b[0m\u001b[1;33m)\u001b[0m\u001b[1;33m\u001b[0m\u001b[1;33m\u001b[0m\u001b[0m\n\u001b[1;32m----> 2\u001b[1;33m \u001b[0muser\u001b[0m \u001b[1;33m=\u001b[0m \u001b[0mg\u001b[0m\u001b[1;33m.\u001b[0m\u001b[0mget_user\u001b[0m\u001b[1;33m(\u001b[0m\u001b[0musername\u001b[0m\u001b[1;33m)\u001b[0m\u001b[1;33m\u001b[0m\u001b[1;33m\u001b[0m\u001b[0m\n\u001b[0m\u001b[0;32m      3\u001b[0m \u001b[1;32mfor\u001b[0m \u001b[0mrepo\u001b[0m \u001b[1;32min\u001b[0m \u001b[0muser\u001b[0m\u001b[1;33m.\u001b[0m\u001b[0mget_repos\u001b[0m\u001b[1;33m(\u001b[0m\u001b[1;33m)\u001b[0m\u001b[1;33m:\u001b[0m\u001b[1;33m\u001b[0m\u001b[1;33m\u001b[0m\u001b[0m\n\u001b[0;32m      4\u001b[0m     \u001b[0mprint\u001b[0m\u001b[1;33m(\u001b[0m\u001b[0mrepo\u001b[0m\u001b[1;33m)\u001b[0m\u001b[1;33m\u001b[0m\u001b[1;33m\u001b[0m\u001b[0m\n",
      "\u001b[1;32m~\\anaconda3\\lib\\site-packages\\github\\MainClass.py\u001b[0m in \u001b[0;36mget_user\u001b[1;34m(self, login)\u001b[0m\n\u001b[0;32m    270\u001b[0m         \u001b[1;32melse\u001b[0m\u001b[1;33m:\u001b[0m\u001b[1;33m\u001b[0m\u001b[1;33m\u001b[0m\u001b[0m\n\u001b[0;32m    271\u001b[0m             headers, data = self.__requester.requestJsonAndCheck(\n\u001b[1;32m--> 272\u001b[1;33m                 \u001b[1;34m\"GET\"\u001b[0m\u001b[1;33m,\u001b[0m \u001b[1;34m\"/users/\"\u001b[0m \u001b[1;33m+\u001b[0m \u001b[0mlogin\u001b[0m\u001b[1;33m\u001b[0m\u001b[1;33m\u001b[0m\u001b[0m\n\u001b[0m\u001b[0;32m    273\u001b[0m             )\n\u001b[0;32m    274\u001b[0m             return github.NamedUser.NamedUser(\n",
      "\u001b[1;32m~\\anaconda3\\lib\\site-packages\\github\\Requester.py\u001b[0m in \u001b[0;36mrequestJsonAndCheck\u001b[1;34m(self, verb, url, parameters, headers, input)\u001b[0m\n\u001b[0;32m    317\u001b[0m         return self.__check(\n\u001b[0;32m    318\u001b[0m             *self.requestJson(\n\u001b[1;32m--> 319\u001b[1;33m                 \u001b[0mverb\u001b[0m\u001b[1;33m,\u001b[0m \u001b[0murl\u001b[0m\u001b[1;33m,\u001b[0m \u001b[0mparameters\u001b[0m\u001b[1;33m,\u001b[0m \u001b[0mheaders\u001b[0m\u001b[1;33m,\u001b[0m \u001b[0minput\u001b[0m\u001b[1;33m,\u001b[0m \u001b[0mself\u001b[0m\u001b[1;33m.\u001b[0m\u001b[0m__customConnection\u001b[0m\u001b[1;33m(\u001b[0m\u001b[0murl\u001b[0m\u001b[1;33m)\u001b[0m\u001b[1;33m\u001b[0m\u001b[1;33m\u001b[0m\u001b[0m\n\u001b[0m\u001b[0;32m    320\u001b[0m             )\n\u001b[0;32m    321\u001b[0m         )\n",
      "\u001b[1;32m~\\anaconda3\\lib\\site-packages\\github\\Requester.py\u001b[0m in \u001b[0;36m__check\u001b[1;34m(self, status, responseHeaders, output)\u001b[0m\n\u001b[0;32m    340\u001b[0m         \u001b[0moutput\u001b[0m \u001b[1;33m=\u001b[0m \u001b[0mself\u001b[0m\u001b[1;33m.\u001b[0m\u001b[0m__structuredFromJson\u001b[0m\u001b[1;33m(\u001b[0m\u001b[0moutput\u001b[0m\u001b[1;33m)\u001b[0m\u001b[1;33m\u001b[0m\u001b[1;33m\u001b[0m\u001b[0m\n\u001b[0;32m    341\u001b[0m         \u001b[1;32mif\u001b[0m \u001b[0mstatus\u001b[0m \u001b[1;33m>=\u001b[0m \u001b[1;36m400\u001b[0m\u001b[1;33m:\u001b[0m\u001b[1;33m\u001b[0m\u001b[1;33m\u001b[0m\u001b[0m\n\u001b[1;32m--> 342\u001b[1;33m             \u001b[1;32mraise\u001b[0m \u001b[0mself\u001b[0m\u001b[1;33m.\u001b[0m\u001b[0m__createException\u001b[0m\u001b[1;33m(\u001b[0m\u001b[0mstatus\u001b[0m\u001b[1;33m,\u001b[0m \u001b[0mresponseHeaders\u001b[0m\u001b[1;33m,\u001b[0m \u001b[0moutput\u001b[0m\u001b[1;33m)\u001b[0m\u001b[1;33m\u001b[0m\u001b[1;33m\u001b[0m\u001b[0m\n\u001b[0m\u001b[0;32m    343\u001b[0m         \u001b[1;32mreturn\u001b[0m \u001b[0mresponseHeaders\u001b[0m\u001b[1;33m,\u001b[0m \u001b[0moutput\u001b[0m\u001b[1;33m\u001b[0m\u001b[1;33m\u001b[0m\u001b[0m\n\u001b[0;32m    344\u001b[0m \u001b[1;33m\u001b[0m\u001b[0m\n",
      "\u001b[1;31mRateLimitExceededException\u001b[0m: 403 {\"message\": \"API rate limit exceeded for 83.89.248.244. (But here's the good news: Authenticated requests get a higher rate limit. Check out the documentation for more details.)\", \"documentation_url\": \"https://developer.github.com/v3/#rate-limiting\"}"
     ]
    }
   ],
   "source": [
    "g = Github()\n",
    "user = g.get_user(username)\n",
    "for repo in user.get_repos():\n",
    "    print(repo)"
   ]
  },
  {
   "cell_type": "code",
   "execution_count": 103,
   "metadata": {},
   "outputs": [
    {
     "data": {
      "text/plain": [
       "['tensorflow',\n",
       " 'josephmisiti',\n",
       " 'scikit-learn',\n",
       " 'fighting41love',\n",
       " 'ZuzooVn',\n",
       " 'ageron',\n",
       " 'eriklindernoren',\n",
       " 'trekhleb',\n",
       " 'kailashahirwar',\n",
       " 'ty4z2008',\n",
       " 'PaddlePaddle',\n",
       " 'apache',\n",
       " 'lutzroeder',\n",
       " 'microsoft',\n",
       " 'ageron',\n",
       " 'afshinea',\n",
       " 'rasbt',\n",
       " 'ujjwalkarn',\n",
       " 'slundberg',\n",
       " 'gunthercox',\n",
       " 'hangtwenty',\n",
       " 'aleju',\n",
       " 'RasaHQ',\n",
       " 'apple',\n",
       " 'Unity-Technologies',\n",
       " 'davisking',\n",
       " 'kubeflow',\n",
       " 'onnx',\n",
       " 'TheAlgorithms',\n",
       " 'ddbourgin',\n",
       " 'RedditSota',\n",
       " 'kmario23',\n",
       " 'janishar',\n",
       " 'microsoft',\n",
       " 'rushter',\n",
       " 'marcotcr',\n",
       " 'mlflow',\n",
       " 'clips',\n",
       " 'EpistasisLab',\n",
       " 'mml-book',\n",
       " 'sjwhitworth',\n",
       " 'llSourcell',\n",
       " 'Yorko',\n",
       " 'VowpalWabbit',\n",
       " 'dotnet',\n",
       " 'uber',\n",
       " 'bulletphysics',\n",
       " 'EthicalML',\n",
       " 'NLP-LOVE',\n",
       " 'cortexlabs',\n",
       " 'instillai',\n",
       " 'guess-js',\n",
       " 'PAIR-code',\n",
       " 'deeplearning-ai',\n",
       " 'rasbt',\n",
       " 'Angel-ML',\n",
       " 'TheAlgorithms',\n",
       " 'timzhang642',\n",
       " 'Swift-AI',\n",
       " 'nfmcclure',\n",
       " 'firmai',\n",
       " 'lazyprogrammer',\n",
       " 'catboost',\n",
       " 'pymc-devs',\n",
       " 'NirantK',\n",
       " 'chiphuyen',\n",
       " 'haifengl',\n",
       " 'h2oai',\n",
       " 'src-d',\n",
       " 'amueller',\n",
       " 'automl',\n",
       " 'humphd',\n",
       " 'rhiever',\n",
       " 'PRML',\n",
       " 'PySimpleGUI',\n",
       " 'scikit-learn-contrib',\n",
       " 'Alluxio',\n",
       " 'ljpzzz',\n",
       " 'dformoso',\n",
       " 'tensorflow',\n",
       " 'Leo-G',\n",
       " 'airbnb',\n",
       " 'Vay-keen',\n",
       " 'aws',\n",
       " 'amazon-archives',\n",
       " 'BinRoot',\n",
       " 'ml5js',\n",
       " 'eugeneyan',\n",
       " 'roboticcam',\n",
       " 'mdbloice']"
      ]
     },
     "execution_count": 103,
     "metadata": {},
     "output_type": "execute_result"
    }
   ],
   "source": [
    "users"
   ]
  },
  {
   "cell_type": "code",
   "execution_count": 102,
   "metadata": {},
   "outputs": [
    {
     "data": {
      "text/plain": [
       "'tensorflow,josephmisiti,scikit-learn,fighting41love,ZuzooVn,ageron,eriklindernoren,trekhleb,kailashahirwar,ty4z2008,PaddlePaddle,apache,lutzroeder,microsoft,ageron,afshinea,rasbt,ujjwalkarn,slundberg,gunthercox,hangtwenty,aleju,RasaHQ,apple,Unity-Technologies,davisking,kubeflow,onnx,TheAlgorithms,ddbourgin,RedditSota,kmario23,janishar,microsoft,rushter,marcotcr,mlflow,clips,EpistasisLab,mml-book,sjwhitworth,llSourcell,Yorko,VowpalWabbit,dotnet,uber,bulletphysics,EthicalML,NLP-LOVE,cortexlabs,instillai,guess-js,PAIR-code,deeplearning-ai,rasbt,Angel-ML,TheAlgorithms,timzhang642,Swift-AI,nfmcclure,firmai,lazyprogrammer,catboost,pymc-devs,NirantK,chiphuyen,haifengl,h2oai,src-d,amueller,automl,humphd,rhiever,PRML,PySimpleGUI,scikit-learn-contrib,Alluxio,ljpzzz,dformoso,tensorflow,Leo-G,airbnb,Vay-keen,aws,amazon-archives,BinRoot,ml5js,eugeneyan,roboticcam,mdbloice'"
      ]
     },
     "execution_count": 102,
     "metadata": {},
     "output_type": "execute_result"
    }
   ],
   "source": [
    "with open('users', 'w') as f: \n",
    "      \n",
    "    # using csv.writer method from CSV package \n",
    "    write = csv.writer(f) \n",
    "      \n",
    "    write.writerow(fields) \n",
    "    write.writerows(rows)\n",
    "    \n",
    "    \n",
    "    ','.join(users)\n"
   ]
  }
 ],
 "metadata": {
  "kernelspec": {
   "display_name": "Python 3",
   "language": "python",
   "name": "python3"
  },
  "language_info": {
   "codemirror_mode": {
    "name": "ipython",
    "version": 3
   },
   "file_extension": ".py",
   "mimetype": "text/x-python",
   "name": "python",
   "nbconvert_exporter": "python",
   "pygments_lexer": "ipython3",
   "version": "3.7.6"
  }
 },
 "nbformat": 4,
 "nbformat_minor": 4
}
